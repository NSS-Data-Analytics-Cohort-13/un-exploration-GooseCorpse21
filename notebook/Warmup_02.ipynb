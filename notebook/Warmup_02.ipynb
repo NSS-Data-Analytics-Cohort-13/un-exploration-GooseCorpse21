{
 "cells": [
  {
   "cell_type": "markdown",
   "id": "db8b2d7a-4655-40a1-83f5-3805eda94ebc",
   "metadata": {},
   "source": [
    "In this exercise, you've been provided with a dataset of outcomes from the [Austin Animal Center](https://www.austintexas.gov/austin-animal-center). Use this data to answer the following questions."
   ]
  },
  {
   "cell_type": "code",
   "execution_count": 1,
   "id": "e3a74493-e6d4-4f6c-b2f7-43609e35d78c",
   "metadata": {},
   "outputs": [],
   "source": [
    "import pandas as pd"
   ]
  },
  {
   "cell_type": "code",
   "execution_count": 2,
   "id": "f2c809f8-ca66-4dec-842f-d479ca3305b0",
   "metadata": {},
   "outputs": [
    {
     "data": {
      "text/html": [
       "<div>\n",
       "<style scoped>\n",
       "    .dataframe tbody tr th:only-of-type {\n",
       "        vertical-align: middle;\n",
       "    }\n",
       "\n",
       "    .dataframe tbody tr th {\n",
       "        vertical-align: top;\n",
       "    }\n",
       "\n",
       "    .dataframe thead th {\n",
       "        text-align: right;\n",
       "    }\n",
       "</style>\n",
       "<table border=\"1\" class=\"dataframe\">\n",
       "  <thead>\n",
       "    <tr style=\"text-align: right;\">\n",
       "      <th></th>\n",
       "      <th>Name</th>\n",
       "      <th>Type</th>\n",
       "      <th>Breed</th>\n",
       "      <th>Outcome Type</th>\n",
       "      <th>Days in Shelter</th>\n",
       "    </tr>\n",
       "  </thead>\n",
       "  <tbody>\n",
       "    <tr>\n",
       "      <th>0</th>\n",
       "      <td>REMY</td>\n",
       "      <td>DOG</td>\n",
       "      <td>BEAGLE</td>\n",
       "      <td>RETURN TO OWNER</td>\n",
       "      <td>3</td>\n",
       "    </tr>\n",
       "    <tr>\n",
       "      <th>1</th>\n",
       "      <td>*RONDE</td>\n",
       "      <td>DOG</td>\n",
       "      <td>CHIHUAHUA SH</td>\n",
       "      <td>ADOPTION</td>\n",
       "      <td>49</td>\n",
       "    </tr>\n",
       "    <tr>\n",
       "      <th>2</th>\n",
       "      <td>*SNOOP</td>\n",
       "      <td>CAT</td>\n",
       "      <td>DOMESTIC SH</td>\n",
       "      <td>ADOPTION</td>\n",
       "      <td>38</td>\n",
       "    </tr>\n",
       "    <tr>\n",
       "      <th>3</th>\n",
       "      <td>FIFI</td>\n",
       "      <td>CAT</td>\n",
       "      <td>SIAMESE</td>\n",
       "      <td>ADOPTION</td>\n",
       "      <td>6</td>\n",
       "    </tr>\n",
       "    <tr>\n",
       "      <th>4</th>\n",
       "      <td>CINNAMON</td>\n",
       "      <td>DOG</td>\n",
       "      <td>PIT BULL</td>\n",
       "      <td>RETURN TO OWNER</td>\n",
       "      <td>1</td>\n",
       "    </tr>\n",
       "  </tbody>\n",
       "</table>\n",
       "</div>"
      ],
      "text/plain": [
       "       Name Type         Breed     Outcome Type  Days in Shelter\n",
       "0      REMY  DOG        BEAGLE  RETURN TO OWNER                3\n",
       "1    *RONDE  DOG  CHIHUAHUA SH         ADOPTION               49\n",
       "2    *SNOOP  CAT   DOMESTIC SH         ADOPTION               38\n",
       "3      FIFI  CAT       SIAMESE         ADOPTION                6\n",
       "4  CINNAMON  DOG      PIT BULL  RETURN TO OWNER                1"
      ]
     },
     "execution_count": 2,
     "metadata": {},
     "output_type": "execute_result"
    }
   ],
   "source": [
    "animals = pd.read_csv(\"../data/animals.csv\")\n",
    "animals.head()"
   ]
  },
  {
   "cell_type": "markdown",
   "id": "7f08da42-a5a1-4080-ac0d-f9e0ba895626",
   "metadata": {},
   "source": [
    "**Question 1:** What is the most common Breed in the dataset?"
   ]
  },
  {
   "cell_type": "code",
   "execution_count": 36,
   "id": "58c1fc95-af44-452f-994f-046830e2d8eb",
   "metadata": {},
   "outputs": [],
   "source": [
    "most_common_breed = animals['Breed'].value_counts()"
   ]
  },
  {
   "cell_type": "code",
   "execution_count": 34,
   "id": "7e6e5e47-12ee-47c2-9f9d-89b398897c14",
   "metadata": {},
   "outputs": [
    {
     "data": {
      "text/plain": [
       "Breed\n",
       "DOMESTIC SH                    5989\n",
       "PIT BULL                       1637\n",
       "CHIHUAHUA SH                   1050\n",
       "GERM SHEPHERD                   776\n",
       "DOMESTIC MH                     737\n",
       "                               ... \n",
       "CAIRN TERRIER/SCHNAUZER MIN       1\n",
       "DALMATIAN/AMERICAN STAFF          1\n",
       "WELSH TERRIER                     1\n",
       "BELG TERVUREN/MIX                 1\n",
       "DACHSHUND/FOX TERR SMOOTH         1\n",
       "Name: count, Length: 974, dtype: int64"
      ]
     },
     "execution_count": 34,
     "metadata": {},
     "output_type": "execute_result"
    }
   ],
   "source": [
    "most_common_breed"
   ]
  },
  {
   "cell_type": "markdown",
   "id": "e2a2ec8f-72ff-44bc-9046-b2a2a90325ca",
   "metadata": {},
   "source": [
    "**Question 2:** What is the most common Breed in the dataset for animals that are neither dogs nor cats?"
   ]
  },
  {
   "cell_type": "code",
   "execution_count": 37,
   "id": "bea1d201-a066-468f-af3a-dd30ddbc7167",
   "metadata": {},
   "outputs": [],
   "source": [
    "neither_dog_cat=animals[animals['Type'].isin(['DOG', 'CAT']) == False]"
   ]
  },
  {
   "cell_type": "code",
   "execution_count": 38,
   "id": "8bb86da7-3a7e-4822-9ebd-2b2d70fa31d0",
   "metadata": {},
   "outputs": [
    {
     "data": {
      "text/plain": [
       "Breed\n",
       "RABBIT SH        342\n",
       "CHICKEN          313\n",
       "BAT              180\n",
       "GOAT              87\n",
       "GUINEA PIG        82\n",
       "                ... \n",
       "DEGU               1\n",
       "AMERICAN/REX       1\n",
       "BANTAM             1\n",
       "FLORIDA WHITE      1\n",
       "ALPINE/MIX         1\n",
       "Name: count, Length: 126, dtype: int64"
      ]
     },
     "execution_count": 38,
     "metadata": {},
     "output_type": "execute_result"
    }
   ],
   "source": [
    "neither_dog_cat['Breed'].value_counts()"
   ]
  },
  {
   "cell_type": "markdown",
   "id": "9fda2e2b-1577-46f5-aa3f-de8136512038",
   "metadata": {},
   "source": [
    "**Question 3:** Do a larger proportion of dogs or cats get returned to owners?"
   ]
  },
  {
   "cell_type": "code",
   "execution_count": 42,
   "id": "54dc5921-8904-43ed-85a9-afeb9bf2b884",
   "metadata": {},
   "outputs": [
    {
     "data": {
      "text/plain": [
       "0         True\n",
       "1        False\n",
       "2        False\n",
       "3        False\n",
       "4         True\n",
       "         ...  \n",
       "21792    False\n",
       "21793    False\n",
       "21794    False\n",
       "21795    False\n",
       "21796    False\n",
       "Name: Outcome Type, Length: 21797, dtype: bool"
      ]
     },
     "execution_count": 42,
     "metadata": {},
     "output_type": "execute_result"
    }
   ],
   "source": [
    "returned"
   ]
  },
  {
   "cell_type": "code",
   "execution_count": 52,
   "id": "49db3537-6c0f-4fbb-a18d-f89c7b3be1b4",
   "metadata": {},
   "outputs": [],
   "source": [
    "returned_to_owner = animals[(animals['Type'].isin(['DOG','CAT'])) & (animals['Outcome Type'] == 'RETURN TO OWNER')]"
   ]
  },
  {
   "cell_type": "code",
   "execution_count": 54,
   "id": "84c956d9-d2cc-46ee-b900-debbfcbdf7ac",
   "metadata": {},
   "outputs": [
    {
     "ename": "AttributeError",
     "evalue": "'Series' object has no attribute 'value_count'",
     "output_type": "error",
     "traceback": [
      "\u001b[1;31m---------------------------------------------------------------------------\u001b[0m",
      "\u001b[1;31mAttributeError\u001b[0m                            Traceback (most recent call last)",
      "\u001b[1;32m~\\AppData\\Local\\Temp\\ipykernel_12720\\2404644990.py\u001b[0m in \u001b[0;36m?\u001b[1;34m()\u001b[0m\n\u001b[1;32m----> 1\u001b[1;33m \u001b[0mreturned_to_owner\u001b[0m\u001b[1;33m[\u001b[0m\u001b[1;34m'Type'\u001b[0m\u001b[1;33m]\u001b[0m\u001b[1;33m.\u001b[0m\u001b[0mvalue_count\u001b[0m\u001b[1;33m(\u001b[0m\u001b[1;33m)\u001b[0m\u001b[1;33m\u001b[0m\u001b[1;33m\u001b[0m\u001b[0m\n\u001b[0m",
      "\u001b[1;32m~\\anaconda3\\Lib\\site-packages\\pandas\\core\\generic.py\u001b[0m in \u001b[0;36m?\u001b[1;34m(self, name)\u001b[0m\n\u001b[0;32m   6295\u001b[0m             \u001b[1;32mand\u001b[0m \u001b[0mname\u001b[0m \u001b[1;32mnot\u001b[0m \u001b[1;32min\u001b[0m \u001b[0mself\u001b[0m\u001b[1;33m.\u001b[0m\u001b[0m_accessors\u001b[0m\u001b[1;33m\u001b[0m\u001b[1;33m\u001b[0m\u001b[0m\n\u001b[0;32m   6296\u001b[0m             \u001b[1;32mand\u001b[0m \u001b[0mself\u001b[0m\u001b[1;33m.\u001b[0m\u001b[0m_info_axis\u001b[0m\u001b[1;33m.\u001b[0m\u001b[0m_can_hold_identifiers_and_holds_name\u001b[0m\u001b[1;33m(\u001b[0m\u001b[0mname\u001b[0m\u001b[1;33m)\u001b[0m\u001b[1;33m\u001b[0m\u001b[1;33m\u001b[0m\u001b[0m\n\u001b[0;32m   6297\u001b[0m         \u001b[1;33m)\u001b[0m\u001b[1;33m:\u001b[0m\u001b[1;33m\u001b[0m\u001b[1;33m\u001b[0m\u001b[0m\n\u001b[0;32m   6298\u001b[0m             \u001b[1;32mreturn\u001b[0m \u001b[0mself\u001b[0m\u001b[1;33m[\u001b[0m\u001b[0mname\u001b[0m\u001b[1;33m]\u001b[0m\u001b[1;33m\u001b[0m\u001b[1;33m\u001b[0m\u001b[0m\n\u001b[1;32m-> 6299\u001b[1;33m         \u001b[1;32mreturn\u001b[0m \u001b[0mobject\u001b[0m\u001b[1;33m.\u001b[0m\u001b[0m__getattribute__\u001b[0m\u001b[1;33m(\u001b[0m\u001b[0mself\u001b[0m\u001b[1;33m,\u001b[0m \u001b[0mname\u001b[0m\u001b[1;33m)\u001b[0m\u001b[1;33m\u001b[0m\u001b[1;33m\u001b[0m\u001b[0m\n\u001b[0m",
      "\u001b[1;31mAttributeError\u001b[0m: 'Series' object has no attribute 'value_count'"
     ]
    }
   ],
   "source": [
    "returned_to_owner['Type'].value_count()"
   ]
  },
  {
   "cell_type": "code",
   "execution_count": null,
   "id": "df963d58-705b-4b77-bcc8-bca6faaf239c",
   "metadata": {},
   "outputs": [],
   "source": []
  }
 ],
 "metadata": {
  "kernelspec": {
   "display_name": "Python 3 (ipykernel)",
   "language": "python",
   "name": "python3"
  },
  "language_info": {
   "codemirror_mode": {
    "name": "ipython",
    "version": 3
   },
   "file_extension": ".py",
   "mimetype": "text/x-python",
   "name": "python",
   "nbconvert_exporter": "python",
   "pygments_lexer": "ipython3",
   "version": "3.12.7"
  }
 },
 "nbformat": 4,
 "nbformat_minor": 5
}
